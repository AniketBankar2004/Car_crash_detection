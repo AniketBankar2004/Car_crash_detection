{
 "cells": [
  {
   "cell_type": "code",
   "execution_count": 1,
   "id": "ce05bafe",
   "metadata": {},
   "outputs": [],
   "source": [
    "import os\n",
    "from torchvision import datasets, transforms\n",
    "from torch.utils.data import DataLoader\n",
    "import torch\n",
    "import torch.nn as nn\n",
    "import torch.optim as optim\n",
    "import torch.nn.functional as F\n",
    "import time\n",
    "import torchvision.models as models\n",
    "from matplotlib import pyplot as plt\n",
    "import optuna"
   ]
  },
  {
   "cell_type": "code",
   "execution_count": 2,
   "id": "387633b7",
   "metadata": {},
   "outputs": [
    {
     "data": {
      "text/plain": [
       "device(type='cuda')"
      ]
     },
     "execution_count": 2,
     "metadata": {},
     "output_type": "execute_result"
    }
   ],
   "source": [
    "device = torch.device('cuda' if torch.cuda.is_available() else 'cpu')\n",
    "device"
   ]
  },
  {
   "cell_type": "code",
   "execution_count": 3,
   "id": "d8fc6015",
   "metadata": {},
   "outputs": [],
   "source": [
    "image_transforms = transforms.Compose([\n",
    "    transforms.RandomHorizontalFlip(),\n",
    "    transforms.RandomRotation(10),\n",
    "    transforms.ColorJitter(brightness=0.2,contrast=0.2),\n",
    "    transforms.Resize((224,224)),\n",
    "    transforms.ToTensor(),\n",
    "    transforms.Normalize(mean=[0.485,0.456,0.406],std=[0.229,0.224,0.225])\n",
    "])"
   ]
  },
  {
   "cell_type": "code",
   "execution_count": 4,
   "id": "6798920b",
   "metadata": {},
   "outputs": [],
   "source": [
    "dataset_path = './dataset'\n",
    "dataset = datasets.ImageFolder(root = dataset_path,transform=image_transforms)"
   ]
  },
  {
   "cell_type": "code",
   "execution_count": 5,
   "id": "f5d3a0f4",
   "metadata": {},
   "outputs": [],
   "source": [
    "n_classes = len(dataset.classes)"
   ]
  },
  {
   "cell_type": "code",
   "execution_count": 6,
   "id": "af9cd5fa",
   "metadata": {},
   "outputs": [
    {
     "data": {
      "text/plain": [
       "1725"
      ]
     },
     "execution_count": 6,
     "metadata": {},
     "output_type": "execute_result"
    }
   ],
   "source": [
    "train_size = int(0.75 * len(dataset))\n",
    "train_size"
   ]
  },
  {
   "cell_type": "code",
   "execution_count": 7,
   "id": "3de19d4c",
   "metadata": {},
   "outputs": [],
   "source": [
    "val_size = len(dataset) - train_size"
   ]
  },
  {
   "cell_type": "code",
   "execution_count": 8,
   "id": "256d5e5b",
   "metadata": {},
   "outputs": [],
   "source": [
    "from torch.utils.data import random_split\n",
    "train_dataset,val_dataset = random_split(dataset,[train_size,val_size])"
   ]
  },
  {
   "cell_type": "code",
   "execution_count": 9,
   "id": "0752798c",
   "metadata": {},
   "outputs": [],
   "source": [
    "train_loader = DataLoader(train_dataset,batch_size=32,shuffle=True)\n",
    "test_loader = DataLoader(val_dataset,batch_size=32,shuffle=False)"
   ]
  },
  {
   "cell_type": "code",
   "execution_count": 11,
   "id": "b1486142",
   "metadata": {},
   "outputs": [],
   "source": [
    "class ResnetClassifier(nn.Module):\n",
    "    def __init__(self,num_classes,dropout_rate):\n",
    "        super().__init__()\n",
    "        self.model = models.resnet50(weights='DEFAULT')\n",
    "\n",
    "        for param in self.model.parameters():\n",
    "            param.requires_grad = False\n",
    "\n",
    "        for param in self.model.layer4.parameters():\n",
    "            param.requires_grad = True\n",
    "        \n",
    "        self.model.fc = nn.Sequential(\n",
    "            nn.Dropout(dropout_rate),\n",
    "            nn.Linear(self.model.fc.in_features,num_classes)\n",
    "        )\n",
    "\n",
    "    def forward(self,x):\n",
    "        x = self.model(x)\n",
    "        return x"
   ]
  },
  {
   "cell_type": "code",
   "execution_count": 12,
   "id": "a478fe7a",
   "metadata": {},
   "outputs": [],
   "source": [
    "import optuna\n"
   ]
  },
  {
   "cell_type": "code",
   "execution_count": 13,
   "id": "60c62c7b",
   "metadata": {},
   "outputs": [],
   "source": [
    "\n",
    "def objective(trial):\n",
    "    \n",
    "    lr = trial.suggest_float('lr', 1e-5, 1e-2, log=True)\n",
    "    dropout_rate = trial.suggest_float('dropout_rate', 0.2, 0.7)\n",
    "    \n",
    "    \n",
    "    model = ResnetClassifier(num_classes=6, dropout_rate=dropout_rate).to(device)\n",
    "    \n",
    "    \n",
    "    criterion = nn.CrossEntropyLoss()\n",
    "    optimizer = optim.Adam(filter(lambda p: p.requires_grad, model.parameters()), lr=lr)\n",
    "    \n",
    "    \n",
    "    epochs = 3\n",
    "    start = time.time()\n",
    "    for epoch in range(epochs):\n",
    "        model.train()\n",
    "        running_loss = 0.0\n",
    "        for batch_num, (images, labels) in enumerate(train_loader):\n",
    "            images, labels = images.to(device), labels.to(device)\n",
    "\n",
    "            optimizer.zero_grad()\n",
    "            outputs = model(images)\n",
    "            loss = criterion(outputs, labels)\n",
    "            loss.backward()\n",
    "            optimizer.step()\n",
    "            running_loss += loss.item() * images.size(0)\n",
    "\n",
    "        epoch_loss = running_loss / len(train_loader.dataset)\n",
    "        \n",
    "        # Validation loop\n",
    "        model.eval()\n",
    "        correct = 0\n",
    "        total = 0\n",
    "        with torch.no_grad():\n",
    "            for images, labels in train_loader:\n",
    "                images, labels = images.to(device), labels.to(device)\n",
    "                outputs = model(images)\n",
    "                _, predicted = torch.max(outputs.data, 1)\n",
    "                total += labels.size(0)\n",
    "                correct += (predicted == labels).sum().item()\n",
    "\n",
    "        accuracy = 100 * correct / total\n",
    "        \n",
    "        \n",
    "        trial.report(accuracy, epoch)\n",
    "        \n",
    "        \n",
    "        if trial.should_prune():\n",
    "            raise optuna.exceptions.TrialPruned()\n",
    "\n",
    "    end = time.time()\n",
    "    print(f\"Execution time: {end - start} seconds\")\n",
    "    \n",
    "    return accuracy"
   ]
  },
  {
   "cell_type": "code",
   "execution_count": 14,
   "id": "bd56eb8a",
   "metadata": {},
   "outputs": [
    {
     "name": "stderr",
     "output_type": "stream",
     "text": [
      "[I 2025-07-15 12:23:13,411] A new study created in memory with name: no-name-53d7777c-95a9-4702-8d57-6e1ae46c64ef\n",
      "[I 2025-07-15 12:30:37,931] Trial 0 finished with value: 56.289855072463766 and parameters: {'lr': 1.3078136424010068e-05, 'dropout_rate': 0.4867651993753625}. Best is trial 0 with value: 56.289855072463766.\n"
     ]
    },
    {
     "name": "stdout",
     "output_type": "stream",
     "text": [
      "Execution time: 443.70324301719666 seconds\n"
     ]
    },
    {
     "name": "stderr",
     "output_type": "stream",
     "text": [
      "[I 2025-07-15 12:39:34,445] Trial 1 finished with value: 95.1304347826087 and parameters: {'lr': 0.0004107126928527431, 'dropout_rate': 0.3012286226300925}. Best is trial 1 with value: 95.1304347826087.\n"
     ]
    },
    {
     "name": "stdout",
     "output_type": "stream",
     "text": [
      "Execution time: 535.0554733276367 seconds\n"
     ]
    },
    {
     "name": "stderr",
     "output_type": "stream",
     "text": [
      "[I 2025-07-15 12:43:56,775] Trial 2 finished with value: 94.6086956521739 and parameters: {'lr': 0.0003386884780237862, 'dropout_rate': 0.5583789751818813}. Best is trial 1 with value: 95.1304347826087.\n"
     ]
    },
    {
     "name": "stdout",
     "output_type": "stream",
     "text": [
      "Execution time: 261.9383034706116 seconds\n"
     ]
    },
    {
     "name": "stderr",
     "output_type": "stream",
     "text": [
      "[I 2025-07-15 12:48:11,794] Trial 3 finished with value: 78.4927536231884 and parameters: {'lr': 4.8888813138287264e-05, 'dropout_rate': 0.6750931390384229}. Best is trial 1 with value: 95.1304347826087.\n"
     ]
    },
    {
     "name": "stdout",
     "output_type": "stream",
     "text": [
      "Execution time: 254.66264533996582 seconds\n"
     ]
    },
    {
     "name": "stderr",
     "output_type": "stream",
     "text": [
      "[I 2025-07-15 12:52:25,872] Trial 4 finished with value: 56.869565217391305 and parameters: {'lr': 1.764382674396325e-05, 'dropout_rate': 0.6012426585321293}. Best is trial 1 with value: 95.1304347826087.\n"
     ]
    },
    {
     "name": "stdout",
     "output_type": "stream",
     "text": [
      "Execution time: 253.7239487171173 seconds\n"
     ]
    },
    {
     "name": "stderr",
     "output_type": "stream",
     "text": [
      "[I 2025-07-15 12:57:03,392] Trial 5 finished with value: 90.6086956521739 and parameters: {'lr': 0.0020831121147527397, 'dropout_rate': 0.5958325026817166}. Best is trial 1 with value: 95.1304347826087.\n"
     ]
    },
    {
     "name": "stdout",
     "output_type": "stream",
     "text": [
      "Execution time: 277.17900133132935 seconds\n"
     ]
    },
    {
     "name": "stderr",
     "output_type": "stream",
     "text": [
      "[I 2025-07-15 12:58:31,486] Trial 6 pruned. \n",
      "[I 2025-07-15 12:59:58,611] Trial 7 pruned. \n",
      "[I 2025-07-15 13:01:23,580] Trial 8 pruned. \n",
      "[I 2025-07-15 13:05:50,658] Trial 9 finished with value: 93.5072463768116 and parameters: {'lr': 0.0007941626151239746, 'dropout_rate': 0.5054830708317243}. Best is trial 1 with value: 95.1304347826087.\n"
     ]
    },
    {
     "name": "stdout",
     "output_type": "stream",
     "text": [
      "Execution time: 266.7700660228729 seconds\n"
     ]
    },
    {
     "name": "stderr",
     "output_type": "stream",
     "text": [
      "[I 2025-07-15 13:10:13,135] Trial 10 finished with value: 94.89855072463769 and parameters: {'lr': 0.00013362298744833844, 'dropout_rate': 0.29412954794224466}. Best is trial 1 with value: 95.1304347826087.\n"
     ]
    },
    {
     "name": "stdout",
     "output_type": "stream",
     "text": [
      "Execution time: 262.0659182071686 seconds\n"
     ]
    },
    {
     "name": "stderr",
     "output_type": "stream",
     "text": [
      "[I 2025-07-15 13:11:39,204] Trial 11 pruned. \n",
      "[I 2025-07-15 13:14:29,199] Trial 12 pruned. \n",
      "[I 2025-07-15 13:18:51,707] Trial 13 finished with value: 95.07246376811594 and parameters: {'lr': 0.00014667313520859464, 'dropout_rate': 0.3278178196999911}. Best is trial 1 with value: 95.1304347826087.\n"
     ]
    },
    {
     "name": "stdout",
     "output_type": "stream",
     "text": [
      "Execution time: 262.1841666698456 seconds\n"
     ]
    },
    {
     "name": "stderr",
     "output_type": "stream",
     "text": [
      "[I 2025-07-15 13:23:10,981] Trial 14 pruned. \n",
      "[I 2025-07-15 13:27:33,487] Trial 15 pruned. \n",
      "[I 2025-07-15 13:30:28,151] Trial 16 pruned. \n",
      "[I 2025-07-15 13:31:55,501] Trial 17 pruned. \n",
      "[I 2025-07-15 13:34:46,499] Trial 18 pruned. \n",
      "[I 2025-07-15 13:38:59,866] Trial 19 finished with value: 96.40579710144928 and parameters: {'lr': 0.00022857126729455005, 'dropout_rate': 0.40297443917883574}. Best is trial 19 with value: 96.40579710144928.\n"
     ]
    },
    {
     "name": "stdout",
     "output_type": "stream",
     "text": [
      "Execution time: 253.0286774635315 seconds\n"
     ]
    }
   ],
   "source": [
    "study = optuna.create_study(direction='maximize')\n",
    "study.optimize(objective, n_trials=20)"
   ]
  },
  {
   "cell_type": "code",
   "execution_count": 15,
   "id": "64d6c2da",
   "metadata": {},
   "outputs": [
    {
     "data": {
      "text/plain": [
       "{'lr': 0.00022857126729455005, 'dropout_rate': 0.40297443917883574}"
      ]
     },
     "execution_count": 15,
     "metadata": {},
     "output_type": "execute_result"
    }
   ],
   "source": [
    "study.best_params"
   ]
  },
  {
   "cell_type": "code",
   "execution_count": null,
   "id": "fe7a0b1a",
   "metadata": {},
   "outputs": [],
   "source": []
  }
 ],
 "metadata": {
  "kernelspec": {
   "display_name": "Python 3.11 (Torch 2.5.1)",
   "language": "python",
   "name": "py311"
  },
  "language_info": {
   "codemirror_mode": {
    "name": "ipython",
    "version": 3
   },
   "file_extension": ".py",
   "mimetype": "text/x-python",
   "name": "python",
   "nbconvert_exporter": "python",
   "pygments_lexer": "ipython3",
   "version": "3.11.4"
  }
 },
 "nbformat": 4,
 "nbformat_minor": 5
}
